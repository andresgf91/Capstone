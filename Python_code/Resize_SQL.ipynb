{
 "cells": [
  {
   "cell_type": "code",
   "execution_count": null,
   "metadata": {},
   "outputs": [],
   "source": [
    "import pandas as pd\n",
    "import sqlite3\n",
    "\n",
    "#text for training embeddings model\n",
    "\n",
    "conn = sqlite3.connect(\"/Users/andresgf91/Capstone/Data/SQL_TEXAS_HARVEY.sqlite\")\n",
    "\n",
    "tweet_df = pd.read_sql_query(\"SELECT text,id_str,created_at,lang,location,user_id_str,name,user_lang,country_code,place_lat,place_lon,lat,lon,user_county FROM all_texas_tweets;\", conn)\n",
    "\n",
    "len(tweet_df)"
   ]
  },
  {
   "cell_type": "code",
   "execution_count": 1,
   "metadata": {},
   "outputs": [
    {
     "name": "stdout",
     "output_type": "stream",
     "text": [
      "finished BOSS\n"
     ]
    }
   ],
   "source": [
    "# import the sqlite3 module\n",
    "import sqlite3\n",
    "\n",
    " \n",
    "# Connect to the database\n",
    "connection  = sqlite3.connect(\"/Users/andresgf91/Capstone/Data/SQL_TEXAS_HARVEY.sqlite\")\n",
    "\n",
    "# Get a cursor object\n",
    "cursor  = connection.cursor()\n",
    "\n",
    "# Execute the DROP Table SQL statement\n",
    "\n",
    "dropTableStatement = \"DROP TABLE all_raw_tweets\"\n",
    "\n",
    "cursor.execute(dropTableStatement)\n",
    "\n",
    "# Close the connection object\n",
    "connection.close()\n",
    "\n",
    "print(\"finished BOSS\")"
   ]
  },
  {
   "cell_type": "code",
   "execution_count": 3,
   "metadata": {},
   "outputs": [
    {
     "name": "stdout",
     "output_type": "stream",
     "text": [
      "finished BOSS\n"
     ]
    }
   ],
   "source": [
    "# import the sqlite3 module\n",
    "import sqlite3\n",
    "\n",
    " \n",
    "# Connect to the database\n",
    "connection  = sqlite3.connect(\"/Users/andresgf91/Capstone/Data/SQL_TEXAS_HARVEY.sqlite\")\n",
    "\n",
    "# Get a cursor object\n",
    "cursor  = connection.cursor()\n",
    "\n",
    "# Execute the DROP Table SQL statement\n",
    "\n",
    "dropTableStatement = \"DROP TABLE test_u_can_erase_andres\"\n",
    "\n",
    "cursor.execute(dropTableStatement)\n",
    "\n",
    "# Close the connection object\n",
    "connection.close()\n",
    "\n",
    "print(\"finished BOSS\")"
   ]
  },
  {
   "cell_type": "code",
   "execution_count": 5,
   "metadata": {},
   "outputs": [],
   "source": [
    "conn = sqlite3.connect(\"/Users/andresgf91/Capstone/Data/SQL_TEXAS_HARVEY.sqlite\")\n",
    "conn.execute(\"VACUUM\")\n",
    "conn.close()"
   ]
  }
 ],
 "metadata": {
  "kernelspec": {
   "display_name": "Python 3",
   "language": "python",
   "name": "python3"
  },
  "language_info": {
   "codemirror_mode": {
    "name": "ipython",
    "version": 3
   },
   "file_extension": ".py",
   "mimetype": "text/x-python",
   "name": "python",
   "nbconvert_exporter": "python",
   "pygments_lexer": "ipython3",
   "version": "3.7.0"
  }
 },
 "nbformat": 4,
 "nbformat_minor": 2
}
