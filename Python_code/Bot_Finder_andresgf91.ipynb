{
 "cells": [
  {
   "cell_type": "code",
   "execution_count": 3,
   "metadata": {},
   "outputs": [],
   "source": [
    "import botometer\n",
    "import pandas as pd"
   ]
  },
  {
   "cell_type": "code",
   "execution_count": 5,
   "metadata": {},
   "outputs": [],
   "source": [
    "mashape_key = '672271137cmsh2f76f749d6aaaffp14476fjsn1c5eb01bcb0d'\n",
    "\n",
    "twitter_app_auth = {\n",
    "    'consumer_key': 'mzfgwXkTwLlxYt0qqg2KZNpZ6',\n",
    "    'consumer_secret': 'pFCHkAxDqMyn1gkMoLKlWPG9Cc2OQZOVuYzuzvHBuG1SNLeCqS',\n",
    "    'access_token': '39675338-JgDKqr7hMyaO5bp7rGgM2ADfuwk6Oz9rkx8Sn2UpK',\n",
    "    'access_token_secret': 'mrkybSdUIx1MjxgmGeVUYW93ggSXD5S3d0BAunMlNvkzw',\n",
    "  }\n",
    "\n",
    "\n",
    "bom = botometer.Botometer(wait_on_ratelimit=True,\n",
    "                          mashape_key=mashape_key,\n",
    "                          **twitter_app_auth)"
   ]
  },
  {
   "cell_type": "code",
   "execution_count": null,
   "metadata": {},
   "outputs": [],
   "source": [
    "import pandas as pd\n",
    "import sqlite3\n",
    "conn = sqlite3.connect(\"/Users/andresgf91/Capstone/Data/SQL_META_HARVEY.sqlite\")\n",
    "all_ids = pd.read_sql_query(\"select user_id_str from all_texas_tweets;\", conn)\n",
    "all_ids = set(all_ids['user_id_str'])\n",
    "\n",
    "print('finished getting business from  SQL')\n",
    "\n",
    "all_ids = list(set(all_ids))\n",
    "len(all_ids)"
   ]
  },
  {
   "cell_type": "code",
   "execution_count": null,
   "metadata": {},
   "outputs": [],
   "source": [
    "prev_results = pd.read_csv(filepath_or_buffer=\"~/Capstone/Data/botometer_2.csv\")\n",
    "\n",
    "prev_results.head(10)\n",
    "\n",
    "prev_ids = list(set(prev_results['ids']))\n",
    "len(prev_ids)\n",
    "all_ids = list(set(all_ids))\n",
    "\n",
    "all_ids = [int(i) for i in all_ids]"
   ]
  },
  {
   "cell_type": "code",
   "execution_count": null,
   "metadata": {},
   "outputs": [],
   "source": [
    "still_needs_searching = [i for i in all_ids if i not in prev_ids]\n",
    "print(len(still_needs_searching))"
   ]
  },
  {
   "cell_type": "code",
   "execution_count": 58,
   "metadata": {},
   "outputs": [],
   "source": [
    "to_search = still_needs_searching[0:400]"
   ]
  },
  {
   "cell_type": "code",
   "execution_count": null,
   "metadata": {},
   "outputs": [],
   "source": [
    "ls = list()\n",
    "accounts = to_search\n",
    "for screen_name, result in bom.check_accounts_in(accounts):\n",
    "    ls.append(result)\n",
    "    \n",
    "print('Finished running botometer scores...')\n",
    "len(ls)"
   ]
  },
  {
   "cell_type": "code",
   "execution_count": null,
   "metadata": {},
   "outputs": [],
   "source": [
    "import pandas as pd\n",
    "\n",
    "old_botometer_df = pd.read_csv(filepath_or_buffer=\"~/Capstone/Data/botometer_2.csv\")\n",
    "\n",
    "try:\n",
    "    del old_botometer_df['Unnamed: 0']\n",
    "except KeyError: \n",
    "    pass\n",
    "\n",
    "errors = list()\n",
    "\n",
    "for i in range(0,len(ls)):\n",
    "    try:\n",
    "        d=ls[i]['user']\n",
    "        d=ls[i]['scores']\n",
    "    except KeyError:\n",
    "        errors.append(i)\n",
    "        \n",
    "ls = [ls[i] for i in range(0,len(ls)) if i not in errors]\n",
    "\n",
    "ids = list(ls[i]['user']['id_str'] for i in range(0,len(ls)))\n",
    "english_score = list(ls[i]['scores']['english'] for i in range(0,len(ls)))\n",
    "universal_score = list(ls[i]['scores']['universal'] for i in range(0,len(ls)))\n",
    "\n",
    "new_botometer_df = pd.DataFrame({'ids':ids,'english_score':english_score,'universal_score':universal_score})\n",
    "\n",
    "botometer_df = new_botometer_df.append(old_botometer_df, ignore_index = True, sort=False)\n",
    "botometer_df = pd.DataFrame.drop_duplicates(botometer_df,subset='ids')\n",
    "\n",
    "pd.DataFrame.to_csv(botometer_df,path_or_buf=\"~/Capstone/Data/botometer_2.csv\", index= False)\n",
    "\n",
    "len(botometer_df)"
   ]
  }
 ],
 "metadata": {
  "kernelspec": {
   "display_name": "Python 3",
   "language": "python",
   "name": "python3"
  },
  "language_info": {
   "codemirror_mode": {
    "name": "ipython",
    "version": 3
   },
   "file_extension": ".py",
   "mimetype": "text/x-python",
   "name": "python",
   "nbconvert_exporter": "python",
   "pygments_lexer": "ipython3",
   "version": "3.7.0"
  }
 },
 "nbformat": 4,
 "nbformat_minor": 2
}
