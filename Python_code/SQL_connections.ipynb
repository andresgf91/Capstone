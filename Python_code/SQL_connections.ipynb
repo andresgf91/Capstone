{
 "cells": [
  {
   "cell_type": "code",
   "execution_count": null,
   "metadata": {},
   "outputs": [],
   "source": [
    "import pandas as pd\n",
    "import sqlite3\n",
    "conn = sqlite3.connect(\"/Users/andresgf91/SQL_affected_users_timeline_2.sqlite\")\n",
    "df1 = pd.read_sql_query(\"select user_id_str,text,created_at,lang,id_str from raw_tweets where user_id_str in (select user_id_str from english_users);\", conn)"
   ]
  },
  {
   "cell_type": "code",
   "execution_count": null,
   "metadata": {},
   "outputs": [],
   "source": [
    "len(df1)"
   ]
  },
  {
   "cell_type": "code",
   "execution_count": null,
   "metadata": {},
   "outputs": [],
   "source": [
    "df1 = df1.loc[df1['lang'] == 'en']"
   ]
  },
  {
   "cell_type": "code",
   "execution_count": null,
   "metadata": {},
   "outputs": [],
   "source": [
    "len(df1)"
   ]
  },
  {
   "cell_type": "code",
   "execution_count": null,
   "metadata": {},
   "outputs": [],
   "source": [
    "pd.DataFrame.to_csv(df1,path_or_buf=\"~/Documents/LSE/Capstone/Data/users_english_tweets.csv\", index= False)"
   ]
  },
  {
   "cell_type": "code",
   "execution_count": null,
   "metadata": {},
   "outputs": [],
   "source": [
    "conn = sqlite3.connect(\"/Users/andresgf91/SQL_affected_dataverse_timeline_2.sqlite\")\n",
    "df = pd.read_sql_query(\"select user_id_str,text,created_at,lang,id_str from raw_tweets where user_id_str in (select user_id_str from english_users);\", conn)\n",
    "df[1:10]"
   ]
  },
  {
   "cell_type": "code",
   "execution_count": null,
   "metadata": {},
   "outputs": [],
   "source": [
    "pd.DataFrame.to_csv(df,path_or_buf=\"~/Documents/LSE/Capstone/Data/dataverse_english_tweets.csv\", index= False)"
   ]
  },
  {
   "cell_type": "code",
   "execution_count": null,
   "metadata": {},
   "outputs": [],
   "source": [
    "df = df.loc[df['lang'] == 'en']"
   ]
  },
  {
   "cell_type": "code",
   "execution_count": null,
   "metadata": {},
   "outputs": [],
   "source": [
    "english_tweets = df.append(df1, ignore_index = True, sort=False)"
   ]
  },
  {
   "cell_type": "code",
   "execution_count": null,
   "metadata": {},
   "outputs": [],
   "source": [
    "english_tweets = pd.DataFrame.drop_duplicates(english_tweets)"
   ]
  },
  {
   "cell_type": "code",
   "execution_count": null,
   "metadata": {},
   "outputs": [],
   "source": [
    "english_tweets_sample = english_tweets.sample(n=2500000)\n",
    "len(english_tweets_sample)"
   ]
  },
  {
   "cell_type": "code",
   "execution_count": null,
   "metadata": {},
   "outputs": [],
   "source": [
    "pd.DataFrame.to_csv(english_tweets_sample,path_or_buf=\"~/Documents/LSE/Capstone/Data/english_tweets_all.csv\", index= False)"
   ]
  },
  {
   "cell_type": "code",
   "execution_count": null,
   "metadata": {},
   "outputs": [],
   "source": [
    "import pandas as pd\n",
    "import sqlite3\n",
    "\n",
    "conn = sqlite3.connect(\"/Users/andresgf91/Documents/LSE/Capstone/Data/harvey.sqlite\")\n",
    "\n",
    "df = pd.read_sql_query(\"select * from english_tweets_all;\", conn)\n",
    "\n",
    "#english_tweets.to_sql('english_tweets_all', con=conn)"
   ]
  },
  {
   "cell_type": "code",
   "execution_count": null,
   "metadata": {},
   "outputs": [],
   "source": [
    "english_tweets_sample_2 = df.sample(n=5000000)\n",
    "\n",
    "english_tweets_sample_2.to_sql('english_tweets_sample_5M', con=conn)"
   ]
  },
  {
   "cell_type": "code",
   "execution_count": null,
   "metadata": {},
   "outputs": [],
   "source": [
    "import pandas as pd\n",
    "import sqlite3\n",
    "\n",
    "#text for training embeddings model\n",
    "conn = sqlite3.connect(\"/Users/andresgf91/Documents/LSE/Capstone/Data/harvey.sqlite\")\n",
    "\n",
    "df = pd.read_sql_query(\"select text from english_tweets_all;\", conn)"
   ]
  },
  {
   "cell_type": "code",
   "execution_count": null,
   "metadata": {},
   "outputs": [],
   "source": [
    "df['text'].to_csv('/Users/andresgf91/Documents/LSE/Capstone/Data/harvey_twitter_text.txt',header=None,index=None,sep=' ', mode='a')"
   ]
  }
 ],
 "metadata": {
  "kernelspec": {
   "display_name": "Python 3",
   "language": "python",
   "name": "python3"
  },
  "language_info": {
   "codemirror_mode": {
    "name": "ipython",
    "version": 3
   },
   "file_extension": ".py",
   "mimetype": "text/x-python",
   "name": "python",
   "nbconvert_exporter": "python",
   "pygments_lexer": "ipython3",
   "version": "3.7.0"
  }
 },
 "nbformat": 4,
 "nbformat_minor": 2
}
