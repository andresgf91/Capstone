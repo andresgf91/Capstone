{
 "cells": [
  {
   "cell_type": "code",
   "execution_count": 11,
   "metadata": {},
   "outputs": [],
   "source": [
    "import pandas as pd\n",
    "from empath import Empath\n",
    "lexicon = Empath()"
   ]
  },
  {
   "cell_type": "code",
   "execution_count": 60,
   "metadata": {},
   "outputs": [],
   "source": [
    "df = pd.read_csv(\"/Users/andresgf91/Library/Mobile Documents/com~apple~CloudDocs/Capstone/Data/LDA/text_weekly_4_empath.csv\")"
   ]
  },
  {
   "cell_type": "code",
   "execution_count": 143,
   "metadata": {},
   "outputs": [],
   "source": [
    "path = \"/Users/andresgf91/Library/Mobile Documents/com~apple~CloudDocs/Capstone/Data/LDA/text_weekly_4_empath.json\""
   ]
  },
  {
   "cell_type": "code",
   "execution_count": 144,
   "metadata": {},
   "outputs": [],
   "source": [
    "#READ IN LARGET TEXT FILE LINE BY LINE \n",
    "import json\n",
    "\n",
    "with open(path) as infp:\n",
    "    for i,line in enumerate(infp):\n",
    "        try:\n",
    "            d = json.loads(line)\n",
    "        except ValueError:\n",
    "            pass"
   ]
  },
  {
   "cell_type": "code",
   "execution_count": 145,
   "metadata": {},
   "outputs": [],
   "source": [
    "dii = {}\n",
    "for i in range(0,104):\n",
    "    et =lexicon.analyze(d[i]['text'], normalize = True)\n",
    "    et = pd.DataFrame.from_dict(et,orient = 'index')\n",
    "    dii[d[i]['week']]=et[0]"
   ]
  },
  {
   "cell_type": "code",
   "execution_count": 147,
   "metadata": {},
   "outputs": [],
   "source": [
    "empath_results = pd.DataFrame.from_dict(dii)"
   ]
  },
  {
   "cell_type": "code",
   "execution_count": 148,
   "metadata": {},
   "outputs": [],
   "source": [
    "pd.DataFrame.to_csv(empath_results,path_or_buf=\"/Users/andresgf91/Library/Mobile Documents/com~apple~CloudDocs/Capstone/Data/LDA/text_weekly_empath_results.csv\", index= True)"
   ]
  },
  {
   "cell_type": "code",
   "execution_count": null,
   "metadata": {},
   "outputs": [],
   "source": [
    "lexicon.create_category(\"insurance\", [\"insurance\",\"floods\",\"statefarm\",\"deductible\",\"renters insurance\",'house'], model=\"reddit\")\n",
    "lexicon.create_category(\"house_repairs\",[\"repairs\",\"house\",\"flooded\",\"basement\",\"broken\",\"windows\",\"rain\",\"roof\"], model='reddit')\n",
    "lexicon.create_category(\"temporary_housing\",[\"shelters\",\"temp_housing\",\"displaced\", \"rellocation\", \"temporary housing\",\"hurricane\"], model='reddit')\n",
    "lexicon.create_category(\"psych_counseling\",[\"psychologist\",\"counseling\",\"psychiatrist\",\"shrink\"], model='reddit')\n",
    "lexicon.create_category(\"psych_disorders\",[\"nutrition\",\"binge_eating\",\"eating_disorder\",\"bulimia\",\"counseling\",\"psychiatrist\",\"ADHD\",\"aderall\",'depression',\"bipolar\",\"mental health\",\"sleep disorder\",\"problem sleeping\"], model='reddit')\n",
    "lexicon.create_category(\"floods_rain\",[\"rain\",\"floods\",\"storm\"], model='reddit')\n",
    "lexicon.create_category(\"ladron\",[\"robbery\",\"stolen\",\"looting\"], model='reddit')\n",
    "lexicon.create_category(\"died\",['friend','mourning','loss','dead','passed_away'],model='reddit')"
   ]
  },
  {
   "cell_type": "code",
   "execution_count": 150,
   "metadata": {},
   "outputs": [],
   "source": [
    "dii = {}\n",
    "for i in range(0,104):\n",
    "    et = lexicon.analyze(d[i]['text'],categories=['insurance','house_repairs','temporary_housing',\"psych_counseling\",\"psych_disorders\",\"floods_rain\",\"ladron\",\"died\"], normalize=True)\n",
    "    et = pd.DataFrame.from_dict(et,orient='index')\n",
    "    dii[d[i]['week']]=et[0]\n",
    "\n",
    "costum_df = pd.DataFrame.from_dict(dii)\n",
    "pd.DataFrame.to_csv(costum_df,path_or_buf=\"/Users/andresgf91/Library/Mobile Documents/com~apple~CloudDocs/Capstone/Data/LDA/text_weekly_empath_results_costum.csv\", index= True)"
   ]
  }
 ],
 "metadata": {
  "kernelspec": {
   "display_name": "Python 3",
   "language": "python",
   "name": "python3"
  },
  "language_info": {
   "codemirror_mode": {
    "name": "ipython",
    "version": 3
   },
   "file_extension": ".py",
   "mimetype": "text/x-python",
   "name": "python",
   "nbconvert_exporter": "python",
   "pygments_lexer": "ipython3",
   "version": "3.7.0"
  }
 },
 "nbformat": 4,
 "nbformat_minor": 2
}
