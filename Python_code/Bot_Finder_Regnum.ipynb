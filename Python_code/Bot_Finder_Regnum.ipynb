{
 "cells": [
  {
   "cell_type": "code",
   "execution_count": 16,
   "metadata": {},
   "outputs": [],
   "source": [
    "import botometer\n",
    "import pandas as pd"
   ]
  },
  {
   "cell_type": "code",
   "execution_count": 7,
   "metadata": {},
   "outputs": [],
   "source": [
    "mashape_key = '5e62e89027msh4b725e4348c6340p1edfd8jsn9f29c99b07e9'\n",
    "\n",
    "twitter_app_auth = {\n",
    "    'consumer_key': 'tctr9T5rClcru9HR6l7Y5kAdP',\n",
    "    'consumer_secret': 'qsJcfVkrc5IJElL6KQ6aeBPuEBvhJJlx00zefv1ppVZEjQv6fk',\n",
    "    'access_token': '39675338-Hlg4DdfCReGPXzMAbLkBnWjb45hm0Za4aMN6IcpV1',\n",
    "    'access_token_secret': 'fRtKq262hAS1MXvpacN2aX7Dh6WWirJFTCB6kX1USSw9C',\n",
    "  }\n",
    "\n",
    "\n",
    "bom = botometer.Botometer(wait_on_ratelimit=True,\n",
    "                          mashape_key=mashape_key,\n",
    "                          **twitter_app_auth)\n"
   ]
  },
  {
   "cell_type": "code",
   "execution_count": 17,
   "metadata": {},
   "outputs": [
    {
     "name": "stdout",
     "output_type": "stream",
     "text": [
      "finished getting business from  SQL\n"
     ]
    },
    {
     "data": {
      "text/plain": [
       "21085"
      ]
     },
     "execution_count": 17,
     "metadata": {},
     "output_type": "execute_result"
    }
   ],
   "source": [
    "import pandas as pd\n",
    "import sqlite3\n",
    "conn = sqlite3.connect(\"/Users/andresgf91/Capstone/Data/SQL_META_HARVEY.sqlite\")\n",
    "all_ids = pd.read_sql_query(\"select user_id_str from all_texas_tweets;\", conn)\n",
    "all_ids = set(all_ids['user_id_str'])\n",
    "\n",
    "print('finished getting business from  SQL')\n",
    "\n",
    "all_ids = set(all_ids)\n",
    "len(all_ids)"
   ]
  },
  {
   "cell_type": "code",
   "execution_count": 46,
   "metadata": {},
   "outputs": [],
   "source": [
    "all_ids = [int(i) for i in all_ids]\n",
    "\n",
    "prev_results = pd.read_csv(filepath_or_buffer=\"/Users/andresgf91/Capstone/Data/botometer_2.csv\")\n",
    "prev_results.head(10)\n",
    "prev_ids = set(prev_results['ids'])"
   ]
  },
  {
   "cell_type": "code",
   "execution_count": 47,
   "metadata": {},
   "outputs": [
    {
     "name": "stdout",
     "output_type": "stream",
     "text": [
      "892\n"
     ]
    }
   ],
   "source": [
    "still_needs_searching = [i for i in all_ids if i not in prev_ids]\n",
    "print(len(still_needs_searching))"
   ]
  },
  {
   "cell_type": "code",
   "execution_count": 49,
   "metadata": {},
   "outputs": [],
   "source": [
    "to_search = still_needs_searching[401:891]"
   ]
  },
  {
   "cell_type": "code",
   "execution_count": 50,
   "metadata": {},
   "outputs": [
    {
     "name": "stdout",
     "output_type": "stream",
     "text": [
      "Finished running botometer scores...\n"
     ]
    },
    {
     "data": {
      "text/plain": [
       "490"
      ]
     },
     "execution_count": 50,
     "metadata": {},
     "output_type": "execute_result"
    }
   ],
   "source": [
    "ls = list()\n",
    "accounts = to_search\n",
    "for screen_name, result in bom.check_accounts_in(accounts):\n",
    "    ls.append(result)\n",
    "    \n",
    "print('Finished running botometer scores...')\n",
    "len(ls)"
   ]
  },
  {
   "cell_type": "code",
   "execution_count": 51,
   "metadata": {},
   "outputs": [
    {
     "data": {
      "text/plain": [
       "20652"
      ]
     },
     "execution_count": 51,
     "metadata": {},
     "output_type": "execute_result"
    }
   ],
   "source": [
    "import pandas as pd\n",
    "\n",
    "old_botometer_df = pd.read_csv(filepath_or_buffer=\"~/Capstone/Data/botometer_2.csv\")\n",
    "\n",
    "try:\n",
    "    del old_botometer_df['Unnamed: 0']\n",
    "except KeyError: \n",
    "    pass\n",
    "\n",
    "errors = list()\n",
    "\n",
    "for i in range(0,len(ls)):\n",
    "    try:\n",
    "        d=ls[i]['user']\n",
    "        d=ls[i]['scores']\n",
    "    except KeyError:\n",
    "        errors.append(i)\n",
    "        \n",
    "ls = [ls[i] for i in range(0,len(ls)) if i not in errors]\n",
    "\n",
    "ids = list(ls[i]['user']['id_str'] for i in range(0,len(ls)))\n",
    "english_score = list(ls[i]['scores']['english'] for i in range(0,len(ls)))\n",
    "universal_score = list(ls[i]['scores']['universal'] for i in range(0,len(ls)))\n",
    "\n",
    "new_botometer_df = pd.DataFrame({'ids':ids,'english_score':english_score,'universal_score':universal_score})\n",
    "\n",
    "botometer_df = new_botometer_df.append(old_botometer_df, ignore_index = True, sort=False)\n",
    "botometer_df = pd.DataFrame.drop_duplicates(botometer_df,subset='ids')\n",
    "\n",
    "pd.DataFrame.to_csv(botometer_df,path_or_buf=\"~/Capstone/Data/botometer_2.csv\", index= False)\n",
    "\n",
    "len(botometer_df)"
   ]
  }
 ],
 "metadata": {
  "kernelspec": {
   "display_name": "Python 3",
   "language": "python",
   "name": "python3"
  },
  "language_info": {
   "codemirror_mode": {
    "name": "ipython",
    "version": 3
   },
   "file_extension": ".py",
   "mimetype": "text/x-python",
   "name": "python",
   "nbconvert_exporter": "python",
   "pygments_lexer": "ipython3",
   "version": "3.7.0"
  }
 },
 "nbformat": 4,
 "nbformat_minor": 2
}
